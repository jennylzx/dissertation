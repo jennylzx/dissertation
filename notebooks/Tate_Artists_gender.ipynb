{
 "cells": [
  {
   "cell_type": "code",
   "execution_count": 1,
   "metadata": {},
   "outputs": [],
   "source": [
    "import pandas as pd\n",
    "import numpy as np\n",
    "import matplotlib.pyplot as plt\n",
    "import regex as re\n",
    "import seaborn as sns\n"
   ]
  },
  {
   "cell_type": "code",
   "execution_count": 2,
   "metadata": {},
   "outputs": [],
   "source": [
    "# Import the data\n",
    "df = pd.read_csv(\"../data/artist_data.csv\")  #..(relative path, goes to the parent directory) vs. C:Users (absolute path)"
   ]
  },
  {
   "attachments": {},
   "cell_type": "markdown",
   "metadata": {},
   "source": [
    "### Data cleaning "
   ]
  },
  {
   "cell_type": "code",
   "execution_count": 3,
   "metadata": {},
   "outputs": [
    {
     "name": "stdout",
     "output_type": "stream",
     "text": [
      "<bound method NDFrame.head of          id                    name  gender      dates  yearOfBirth   \n",
      "0     10093  Abakanowicz, Magdalena  Female  born 1930       1930.0  \\\n",
      "1         0     Abbey, Edwin Austin    Male  1852–1911       1852.0   \n",
      "2      2756        Abbott, Berenice  Female  1898–1991       1898.0   \n",
      "3         1  Abbott, Lemuel Francis    Male  1760–1803       1760.0   \n",
      "4       622          Abrahams, Ivor    Male  born 1935       1935.0   \n",
      "...     ...                     ...     ...        ...          ...   \n",
      "3527  12542         Zorio, Gilberto    Male  born 1944       1944.0   \n",
      "3528   2186              Zox, Larry    Male  born 1936       1936.0   \n",
      "3529    621   Zuccarelli, Francesco    Male  1702–1788       1702.0   \n",
      "3530   2187        Zuloaga, Ignacio    Male  1870–1945       1870.0   \n",
      "3531   2188         Zyw, Aleksander    Male  1905–1995       1905.0   \n",
      "\n",
      "      yearOfDeath                    placeOfBirth            placeOfDeath   \n",
      "0             NaN                          Polska                     NaN  \\\n",
      "1          1911.0     Philadelphia, United States  London, United Kingdom   \n",
      "2          1991.0      Springfield, United States   Monson, United States   \n",
      "3          1803.0  Leicestershire, United Kingdom  London, United Kingdom   \n",
      "4             NaN           Wigan, United Kingdom                     NaN   \n",
      "...           ...                             ...                     ...   \n",
      "3527          NaN           Andorno Micca, Italia                     NaN   \n",
      "3528          NaN       Des Moines, United States                     NaN   \n",
      "3529       1788.0                          Italia                 Firenze   \n",
      "3530       1945.0                          España                  España   \n",
      "3531       1995.0                          Polska                     NaN   \n",
      "\n",
      "                                                    url  \n",
      "0     http://www.tate.org.uk/art/artists/magdalena-a...  \n",
      "1     http://www.tate.org.uk/art/artists/edwin-austi...  \n",
      "2     http://www.tate.org.uk/art/artists/berenice-ab...  \n",
      "3     http://www.tate.org.uk/art/artists/lemuel-fran...  \n",
      "4     http://www.tate.org.uk/art/artists/ivor-abraha...  \n",
      "...                                                 ...  \n",
      "3527  http://www.tate.org.uk/art/artists/gilberto-zo...  \n",
      "3528  http://www.tate.org.uk/art/artists/larry-zox-2186  \n",
      "3529  http://www.tate.org.uk/art/artists/francesco-z...  \n",
      "3530  http://www.tate.org.uk/art/artists/ignacio-zul...  \n",
      "3531  http://www.tate.org.uk/art/artists/aleksander-...  \n",
      "\n",
      "[3532 rows x 9 columns]>\n"
     ]
    }
   ],
   "source": [
    "# Set some global options so we always see all of the columns and rows when we print something out\n",
    "pd.set_option('display.max_columns', 100) # 100 cols\n",
    "pd.set_option('display.max_rows', 50) # 50 rows\n",
    "print(df.head)"
   ]
  },
  {
   "attachments": {},
   "cell_type": "markdown",
   "metadata": {},
   "source": [
    "Checking for unique values and spelling mistakes.\n"
   ]
  },
  {
   "cell_type": "code",
   "execution_count": 4,
   "metadata": {},
   "outputs": [
    {
     "name": "stdout",
     "output_type": "stream",
     "text": [
      "['Female' 'Male' nan]\n"
     ]
    }
   ],
   "source": [
    "# Check unique values in the 'gender' column\n",
    "unique_genders = df['gender'].unique()\n",
    "print(unique_genders)"
   ]
  },
  {
   "attachments": {},
   "cell_type": "markdown",
   "metadata": {},
   "source": [
    "Looking at the yearOfBirth NA values."
   ]
  },
  {
   "cell_type": "code",
   "execution_count": 5,
   "metadata": {},
   "outputs": [
    {
     "name": "stdout",
     "output_type": "stream",
     "text": [
      "                                                   name  yearOfBirth\n",
      "70                                            Anonymous          NaN\n",
      "76    Ant Farm (Chip Lord, born 1944, Doug Michels, ...          NaN\n",
      "256                                 Berkeley, Rev C J R          NaN\n",
      "287                                       Black, Sheila          NaN\n",
      "327                                            Booth, L          NaN\n",
      "...                                                 ...          ...\n",
      "3257                                            V.Ch.K.          NaN\n",
      "3275                                               Vara          NaN\n",
      "3301                                       Villers, Dee          NaN\n",
      "3305                                   Vivares, Francis          NaN\n",
      "3451                                   Wolff, Christian          NaN\n",
      "\n",
      "[60 rows x 2 columns]\n"
     ]
    }
   ],
   "source": [
    "# Mask rows where 'gender' column has nan values\n",
    "mask = df['yearOfBirth'].isnull()\n",
    "\n",
    "# Filter the DataFrame using the mask\n",
    "no_year_info = df[mask]\n",
    "\n",
    "# Display the filtered DataFrame\n",
    "print(no_year_info[['name', 'yearOfBirth']])"
   ]
  },
  {
   "attachments": {},
   "cell_type": "markdown",
   "metadata": {},
   "source": [
    "Looking at the gender with NaN values\n"
   ]
  },
  {
   "cell_type": "code",
   "execution_count": 6,
   "metadata": {},
   "outputs": [
    {
     "name": "stdout",
     "output_type": "stream",
     "text": [
      "                                                   name gender\n",
      "70                                            Anonymous    NaN\n",
      "84                                     Arakawa, Shusaku    NaN\n",
      "105   Art & Language (Michael Baldwin, born 1945; Me...    NaN\n",
      "106   Art & Language (Terry Atkinson, born 1939; Dav...    NaN\n",
      "107   Art & Language (Terry Atkinson, born 1939; Mic...    NaN\n",
      "...                                                 ...    ...\n",
      "3319                                    Wakely, Shelagh    NaN\n",
      "3386                                Westmacott, Richard    NaN\n",
      "3495                                      Yalenti, José    NaN\n",
      "3509  Young-Hae Chang Heavy Industries (Young-Hae Ch...    NaN\n",
      "3522                           Ziolkowski, Jakub Julian    NaN\n",
      "\n",
      "[116 rows x 2 columns]\n"
     ]
    }
   ],
   "source": [
    "# Create a boolean mask for rows where 'gender' is NaN\n",
    "mask = df['gender'].isnull()\n",
    "\n",
    "# Use the mask to filter the DataFrame\n",
    "no_gender_info = df[mask]\n",
    "\n",
    "# Display the filtered DataFrame\n",
    "print(no_gender_info[['name', 'gender']])"
   ]
  },
  {
   "attachments": {},
   "cell_type": "markdown",
   "metadata": {},
   "source": [
    "Filter out the  'yearOfBirth' NaN vaules"
   ]
  },
  {
   "cell_type": "code",
   "execution_count": 7,
   "metadata": {},
   "outputs": [],
   "source": [
    "# Create a new DataFrame without rows where 'yearOfBirth' is NaN\n",
    "df_without_nan = df[df['yearOfBirth'].notna()]\n"
   ]
  },
  {
   "attachments": {},
   "cell_type": "markdown",
   "metadata": {},
   "source": [
    "## Sort the year of birth into five periods"
   ]
  },
  {
   "attachments": {},
   "cell_type": "markdown",
   "metadata": {},
   "source": [
    "Dividing the yearOfBirth into five periods, left with 3472 rows × 10 columns. 3532(orginal rows)-3472(new rows) = 60 which matches the NaN values of 'yearOfBirth'"
   ]
  },
  {
   "cell_type": "code",
   "execution_count": 8,
   "metadata": {},
   "outputs": [],
   "source": [
    "df_without_nan = df[df['yearOfBirth'].notna()].copy()\n",
    "\n",
    "# Define the bins for the year ranges\n",
    "bins = pd.interval_range(start=df_without_nan['yearOfBirth'].min(), end=df_without_nan['yearOfBirth'].max(), periods=5)\n",
    "\n",
    "# Creating a new column 'period' to store the bins\n",
    "df_without_nan['period'] = pd.cut(df_without_nan['yearOfBirth'], bins)\n"
   ]
  },
  {
   "attachments": {},
   "cell_type": "markdown",
   "metadata": {},
   "source": [
    "Looking at the new NaN vlaues in gender after removing the NaN values in yearOfBirth and diving it into 5 periods."
   ]
  },
  {
   "cell_type": "code",
   "execution_count": 9,
   "metadata": {},
   "outputs": [
    {
     "name": "stdout",
     "output_type": "stream",
     "text": [
      "                                                   name gender\n",
      "84                                     Arakawa, Shusaku    NaN\n",
      "105   Art & Language (Michael Baldwin, born 1945; Me...    NaN\n",
      "106   Art & Language (Terry Atkinson, born 1939; Dav...    NaN\n",
      "107   Art & Language (Terry Atkinson, born 1939; Mic...    NaN\n",
      "120                                         Atlas Group    NaN\n",
      "...                                                 ...    ...\n",
      "3319                                    Wakely, Shelagh    NaN\n",
      "3386                                Westmacott, Richard    NaN\n",
      "3495                                      Yalenti, José    NaN\n",
      "3509  Young-Hae Chang Heavy Industries (Young-Hae Ch...    NaN\n",
      "3522                           Ziolkowski, Jakub Julian    NaN\n",
      "\n",
      "[88 rows x 2 columns]\n"
     ]
    }
   ],
   "source": [
    "# Create a boolean mask for rows where 'gender' is NaN\n",
    "mask = df_without_nan['gender'].isnull()\n",
    "\n",
    "# Use the mask to filter the DataFrame\n",
    "no_gender_info_new = df_without_nan[mask]\n",
    "\n",
    "# Display the filtered DataFrame\n",
    "print(no_gender_info_new[['name', 'gender']])"
   ]
  },
  {
   "attachments": {},
   "cell_type": "markdown",
   "metadata": {},
   "source": [
    "### Draw Graph"
   ]
  },
  {
   "cell_type": "code",
   "execution_count": 10,
   "metadata": {},
   "outputs": [
    {
     "data": {
      "image/png": "[encoded data removed]",
      "text/plain": [
       "<Figure size 1000x600 with 1 Axes>"
      ]
     },
     "metadata": {},
     "output_type": "display_data"
    }
   ],
   "source": [
    "# Replace the NaN values in the 'gender' column with the string 'Unknown'\n",
    "df_without_nan['gender'].fillna('Unknown', inplace=True)\n",
    "\n",
    "# Create a countplot with 'period' on the x-axis and the count of each 'gender' as the bars\n",
    "plt.figure(figsize=(10, 6))\n",
    "sns.countplot(x='period', hue='gender', data=df_without_nan)\n",
    "\n",
    "# Adding labels and title\n",
    "plt.xlabel('Periods')\n",
    "plt.ylabel('Count')\n",
    "plt.title('Comparison of Gender by Periods')\n",
    "plt.xticks(rotation=45)\n",
    "plt.legend(title='Gender')\n",
    "\n",
    "# Show plot\n",
    "plt.show()"
   ]
  },
  {
   "attachments": {},
   "cell_type": "markdown",
   "metadata": {},
   "source": [
    "### Sorting them to summarised data sets"
   ]
  },
  {
   "cell_type": "code",
   "execution_count": 11,
   "metadata": {},
   "outputs": [
    {
     "name": "stdout",
     "output_type": "stream",
     "text": [
      "             Period  Female  Male  Unknown\n",
      "0  (1497.0, 1598.4]       0    16        3\n",
      "1  (1598.4, 1699.8]       1    64        6\n",
      "2  (1699.8, 1801.2]      13   390       14\n",
      "3  (1801.2, 1902.6]     106   934       20\n",
      "4  (1902.6, 2004.0]     392  1467       45\n"
     ]
    }
   ],
   "source": [
    "# Create pivot table\n",
    "pivot_table = pd.pivot_table(df_without_nan, values='name', index='period', columns='gender', aggfunc='count', fill_value=0)\n",
    "\n",
    "# Resetting the index for better formatting\n",
    "pivot_table.reset_index(inplace=True)\n",
    "\n",
    "# Renaming the columns\n",
    "pivot_table.columns.name = None  # remove the name for columns\n",
    "pivot_table = pivot_table.rename(columns={\"Unknown\": \"Unknown\", \"Male\": \"Male\", \"Female\": \"Female\", \"period\": \"Period\"})\n",
    "\n",
    "# This is the summarized data frame you are looking for\n",
    "print(pivot_table)"
   ]
  },
  {
   "attachments": {},
   "cell_type": "markdown",
   "metadata": {},
   "source": [
    "### Filter our the female artist in the early periods "
   ]
  },
  {
   "cell_type": "code",
   "execution_count": 17,
   "metadata": {},
   "outputs": [
    {
     "name": "stdout",
     "output_type": "stream",
     "text": [
      "        id                                               name  gender   \n",
      "209   2306                                        Beale, Mary  Female  \\\n",
      "773   2553                                Damer, Anne Seymour  Female   \n",
      "925   2284                                  Duncombe, Susanna  Female   \n",
      "1235  2577                                       Gordon, Lady  Female   \n",
      "1685   303                                 Kauffman, Angelica  Female   \n",
      "1975  2570                                       Long, Amelia  Female   \n",
      "2493  2523                        Percy, Lady Susan Elizabeth  Female   \n",
      "2807  2539                                       Sanders, Ann  Female   \n",
      "2850  2573                                     Scott, Frances  Female   \n",
      "3011  2532                                      Spencer, Lady  Female   \n",
      "3016   517                                   Spilsbury, Maria  Female   \n",
      "3098  2575  Sutherland, Elizabeth Leveson-Gower, Duchess-C...  Female   \n",
      "3388  2576                                  Wharncliffe, Lady  Female   \n",
      "3389  2544                                    Wheatley, Clara  Female   \n",
      "\n",
      "             dates  yearOfBirth  yearOfDeath               placeOfBirth   \n",
      "209      1633–1699       1633.0       1699.0     Barrow, United Kingdom  \\\n",
      "773      1748–1828       1748.0       1828.0  Sundridge, United Kingdom   \n",
      "925      1725–1812       1725.0       1812.0                        NaN   \n",
      "1235     1775–1867       1775.0       1867.0                        NaN   \n",
      "1685     1741–1807       1741.0       1807.0              Chur, Schweiz   \n",
      "1975     1772–1837       1772.0       1837.0     London, United Kingdom   \n",
      "2493     1782–1847       1782.0       1847.0                        NaN   \n",
      "2807   active 1778       1778.0       1778.0                        NaN   \n",
      "2850     1750–1817       1750.0       1817.0                        NaN   \n",
      "3011  18th century       1700.0       1799.0                        NaN   \n",
      "3016   1777–c.1823       1777.0       1823.0     London, United Kingdom   \n",
      "3098     1765–1839       1765.0       1839.0                        NaN   \n",
      "3388   c.1776–1853       1776.0       1853.0                        NaN   \n",
      "3389   c.1750–1838       1750.0       1838.0                        NaN   \n",
      "\n",
      "                placeOfDeath   \n",
      "209   London, United Kingdom  \\\n",
      "773   London, United Kingdom   \n",
      "925   London, United Kingdom   \n",
      "1235                     NaN   \n",
      "1685            Roma, Italia   \n",
      "1975    Kent, United Kingdom   \n",
      "2493                     NaN   \n",
      "2807                     NaN   \n",
      "2850                     NaN   \n",
      "3011                     NaN   \n",
      "3016                    Éire   \n",
      "3098                     NaN   \n",
      "3388                     NaN   \n",
      "3389  London, United Kingdom   \n",
      "\n",
      "                                                    url  \n",
      "209   http://www.tate.org.uk/art/artists/mary-beale-...  \n",
      "773   http://www.tate.org.uk/art/artists/anne-seymou...  \n",
      "925   http://www.tate.org.uk/art/artists/susanna-dun...  \n",
      "1235  http://www.tate.org.uk/art/artists/lady-gordon...  \n",
      "1685  http://www.tate.org.uk/art/artists/angelica-ka...  \n",
      "1975  http://www.tate.org.uk/art/artists/amelia-long...  \n",
      "2493  http://www.tate.org.uk/art/artists/lady-susan-...  \n",
      "2807  http://www.tate.org.uk/art/artists/ann-sanders...  \n",
      "2850  http://www.tate.org.uk/art/artists/frances-sco...  \n",
      "3011  http://www.tate.org.uk/art/artists/lady-spence...  \n",
      "3016  http://www.tate.org.uk/art/artists/maria-spils...  \n",
      "3098  http://www.tate.org.uk/art/artists/elizabeth-l...  \n",
      "3388  http://www.tate.org.uk/art/artists/lady-wharnc...  \n",
      "3389  http://www.tate.org.uk/art/artists/clara-wheat...  \n"
     ]
    }
   ],
   "source": [
    "# Filtering out female artists with 'yearOfBirth' before 1670\n",
    "filtered_df = df[(df['gender'] == 'Female') & (df['yearOfBirth'] < 1801)]\n",
    "print(filtered_df)"
   ]
  },
  {
   "cell_type": "code",
   "execution_count": null,
   "metadata": {},
   "outputs": [],
   "source": []
  }
 ],
 "metadata": {
  "kernelspec": {
   "display_name": "Python 3",
   "language": "python",
   "name": "python3"
  },
  "language_info": {
   "codemirror_mode": {
    "name": "ipython",
    "version": 3
   },
   "file_extension": ".py",
   "mimetype": "text/x-python",
   "name": "python",
   "nbconvert_exporter": "python",
   "pygments_lexer": "ipython3",
   "version": "3.11.3"
  },
  "orig_nbformat": 4
 },
 "nbformat": 4,
 "nbformat_minor": 2
}
