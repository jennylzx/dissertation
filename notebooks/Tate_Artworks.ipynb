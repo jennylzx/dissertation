{
 "cells": [
  {
   "cell_type": "code",
   "execution_count": 10,
   "metadata": {},
   "outputs": [],
   "source": [
    "import pandas as pd\n",
    "import numpy as np\n",
    "import matplotlib.pyplot as plt\n",
    "import regex as re\n",
    "import seaborn as sns\n"
   ]
  },
  {
   "cell_type": "code",
   "execution_count": 7,
   "metadata": {},
   "outputs": [
    {
     "name": "stderr",
     "output_type": "stream",
     "text": [
      "C:\\Users\\jenny\\AppData\\Local\\Temp\\ipykernel_6828\\3232727371.py:2: DtypeWarning: Columns (9,13) have mixed types. Specify dtype option on import or set low_memory=False.\n",
      "  df = pd.read_csv(\"../data/artwork_data.csv\")  #..(relative path, goes to the parent directory) vs. C:Users (absolute path)\n"
     ]
    }
   ],
   "source": [
    "# Import the data\n",
    "df = pd.read_csv(\"../data/artwork_data.csv\")  #..(relative path, goes to the parent directory) vs. C:Users (absolute path)"
   ]
  },
  {
   "attachments": {},
   "cell_type": "markdown",
   "metadata": {},
   "source": [
    "### Data cleaning "
   ]
  },
  {
   "cell_type": "code",
   "execution_count": 9,
   "metadata": {},
   "outputs": [
    {
     "name": "stdout",
     "output_type": "stream",
     "text": [
      "<bound method NDFrame.head of            id accession_number              artist artistRole  artistId   \n",
      "0        1035           A00001       Blake, Robert     artist        38  \\\n",
      "1        1036           A00002       Blake, Robert     artist        38   \n",
      "2        1037           A00003       Blake, Robert     artist        38   \n",
      "3        1038           A00004       Blake, Robert     artist        38   \n",
      "4        1039           A00005      Blake, William     artist        39   \n",
      "...       ...              ...                 ...        ...       ...   \n",
      "69196  122960           T13865  P-Orridge, Genesis     artist     16646   \n",
      "69197  122961           T13866  P-Orridge, Genesis     artist     16646   \n",
      "69198  121181           T13867        Hatoum, Mona     artist      2365   \n",
      "69199  112306           T13868       Creed, Martin     artist      2760   \n",
      "69200  127035           T13869   Brunias, Agostino     artist      3824   \n",
      "\n",
      "                                                   title   \n",
      "0      A Figure Bowing before a Seated Old Man with h...  \\\n",
      "1      Two Drawings of Frightened Figures, Probably f...   \n",
      "2      The Preaching of Warning. Verso: An Old Man En...   \n",
      "3         Six Drawings of Figures with Outstretched Arms   \n",
      "4      The Circle of the Lustful: Francesca da Rimini...   \n",
      "...                                                  ...   \n",
      "69196                        Larvae (from Tampax Romana)   \n",
      "69197                   Living Womb (from Tampax Romana)   \n",
      "69198                                      Present Tense   \n",
      "69199          Work No. 227: The lights going on and off   \n",
      "69200                   Dancing Scene in the West Indies   \n",
      "\n",
      "                     dateText   \n",
      "0              date not known  \\\n",
      "1              date not known   \n",
      "2                     ?c.1785   \n",
      "3              date not known   \n",
      "4      1826–7, reprinted 1892   \n",
      "...                       ...   \n",
      "69196                    1975   \n",
      "69197                    1976   \n",
      "69198                    1996   \n",
      "69199                    2000   \n",
      "69200                 1764–96   \n",
      "\n",
      "                                                  medium   \n",
      "0      Watercolour, ink, chalk and graphite on paper....  \\\n",
      "1                                      Graphite on paper   \n",
      "2            Graphite on paper. Verso: graphite on paper   \n",
      "3                                      Graphite on paper   \n",
      "4                                Line engraving on paper   \n",
      "...                                                  ...   \n",
      "69196   Perspex, Wood, hairpiece, tampon and human blood   \n",
      "69197  Wood, Perspex, plastic, photograph on paper, t...   \n",
      "69198                               Soap and glass beads   \n",
      "69199                                   Gallery lighting   \n",
      "69200                                Oil paint on canvas   \n",
      "\n",
      "                                              creditLine    year   \n",
      "0                    Presented by Mrs John Richmond 1922     NaN  \\\n",
      "1                    Presented by Mrs John Richmond 1922     NaN   \n",
      "2                    Presented by Mrs John Richmond 1922  1785.0   \n",
      "3                    Presented by Mrs John Richmond 1922     NaN   \n",
      "4      Purchased with the assistance of a special gra...  1826.0   \n",
      "...                                                  ...     ...   \n",
      "69196                 Transferred from Tate Archive 2012    1975   \n",
      "69197                 Transferred from Tate Archive 2012    1976   \n",
      "69198                     Presented by Tate Members 2013    1996   \n",
      "69199  Purchased with funds provided by Tate Members,...    2000   \n",
      "69200  Purchased with assistance from Tate Patrons an...    1764   \n",
      "\n",
      "       acquisitionYear                           dimensions width  height   \n",
      "0               1922.0                support: 394 x 419 mm   394   419.0  \\\n",
      "1               1922.0                support: 311 x 213 mm   311   213.0   \n",
      "2               1922.0                support: 343 x 467 mm   343   467.0   \n",
      "3               1922.0                support: 318 x 394 mm   318   394.0   \n",
      "4               1919.0                  image: 243 x 335 mm   243   335.0   \n",
      "...                ...                                  ...   ...     ...   \n",
      "69196           2013.0           object: 305 x 305 x 135 mm   305   305.0   \n",
      "69197           2013.0           object: 305 x 305 x 135 mm   305   305.0   \n",
      "69198           2013.0       displayed: 45 x 2410 x 2990 mm    45  2410.0   \n",
      "69199           2013.0  Overall display dimensions variable   NaN     NaN   \n",
      "69200           2013.0            unconfirmed: 508 x 660 mm   508   660.0   \n",
      "\n",
      "        depth units inscription thumbnailCopyright   \n",
      "0         NaN    mm         NaN                NaN  \\\n",
      "1         NaN    mm         NaN                NaN   \n",
      "2         NaN    mm         NaN                NaN   \n",
      "3         NaN    mm         NaN                NaN   \n",
      "4         NaN    mm         NaN                NaN   \n",
      "...       ...   ...         ...                ...   \n",
      "69196   135.0    mm         NaN                NaN   \n",
      "69197   135.0    mm         NaN                NaN   \n",
      "69198  2990.0    mm         NaN                NaN   \n",
      "69199     NaN   NaN         NaN                NaN   \n",
      "69200     NaN    mm         NaN                NaN   \n",
      "\n",
      "                                            thumbnailUrl   \n",
      "0      http://www.tate.org.uk/art/images/work/A/A00/A...  \\\n",
      "1      http://www.tate.org.uk/art/images/work/A/A00/A...   \n",
      "2      http://www.tate.org.uk/art/images/work/A/A00/A...   \n",
      "3      http://www.tate.org.uk/art/images/work/A/A00/A...   \n",
      "4      http://www.tate.org.uk/art/images/work/A/A00/A...   \n",
      "...                                                  ...   \n",
      "69196                                                NaN   \n",
      "69197                                                NaN   \n",
      "69198                                                NaN   \n",
      "69199                                                NaN   \n",
      "69200  http://www.tate.org.uk/art/images/work/T/T13/T...   \n",
      "\n",
      "                                                     url  \n",
      "0      http://www.tate.org.uk/art/artworks/blake-a-fi...  \n",
      "1      http://www.tate.org.uk/art/artworks/blake-two-...  \n",
      "2      http://www.tate.org.uk/art/artworks/blake-the-...  \n",
      "3      http://www.tate.org.uk/art/artworks/blake-six-...  \n",
      "4      http://www.tate.org.uk/art/artworks/blake-the-...  \n",
      "...                                                  ...  \n",
      "69196  http://www.tate.org.uk/art/artworks/p-orridge-...  \n",
      "69197  http://www.tate.org.uk/art/artworks/p-orridge-...  \n",
      "69198  http://www.tate.org.uk/art/artworks/hatoum-pre...  \n",
      "69199  http://www.tate.org.uk/art/artworks/creed-work...  \n",
      "69200  http://www.tate.org.uk/art/artworks/brunias-da...  \n",
      "\n",
      "[69201 rows x 20 columns]>\n"
     ]
    }
   ],
   "source": [
    "# Set some global options so we always see all of the columns and rows when we print something out\n",
    "pd.set_option('display.max_columns', 100) # 100 cols\n",
    "pd.set_option('display.max_rows', 50) # 50 rows\n",
    "print(df.head)"
   ]
  },
  {
   "attachments": {},
   "cell_type": "markdown",
   "metadata": {},
   "source": [
    "### Join the name of the female artist to the name of the art work"
   ]
  },
  {
   "attachments": {},
   "cell_type": "markdown",
   "metadata": {},
   "source": [
    "Find out the artworks by the female artist: Beale, Mary"
   ]
  },
  {
   "cell_type": "code",
   "execution_count": 11,
   "metadata": {},
   "outputs": [
    {
     "name": "stdout",
     "output_type": "stream",
     "text": [
      "           id accession_number       artist artistRole  artistId   \n",
      "62036   20462           T06612  Beale, Mary     artist      2306  \\\n",
      "68577  112238           T13245  Beale, Mary     artist      2306   \n",
      "68578  112239           T13246  Beale, Mary     artist      2306   \n",
      "\n",
      "                                                   title dateText   \n",
      "62036                           Portrait of a Young Girl   c.1681  \\\n",
      "68577  Sketch of the Artist’s Son, Bartholomew Beale,...  c. 1660   \n",
      "68578  Sketch of the Artist’s Son, Bartholomew Beale,...  c. 1660   \n",
      "\n",
      "                    medium      creditLine    year  acquisitionYear   \n",
      "62036  Oil paint on canvas  Purchased 1992  1681.0           1992.0  \\\n",
      "68577   Oil paint on paper  Purchased 2010    1660           2011.0   \n",
      "68578   Oil paint on paper  Purchased 2010    1660           2011.0   \n",
      "\n",
      "                                           dimensions width height  depth   \n",
      "62036  support: 535 x 460 mm frame: 710 x 640 x 77 mm   535    460    NaN  \\\n",
      "68577                           support: 325 x 245 mm   325  245.0    NaN   \n",
      "68578                           support: 325 x 245 mm   325  245.0    NaN   \n",
      "\n",
      "      units inscription thumbnailCopyright   \n",
      "62036    mm         NaN                NaN  \\\n",
      "68577    mm         NaN                NaN   \n",
      "68578    mm         NaN                NaN   \n",
      "\n",
      "                                            thumbnailUrl   \n",
      "62036  http://www.tate.org.uk/art/images/work/T/T06/T...  \\\n",
      "68577  http://www.tate.org.uk/art/images/work/T/T13/T...   \n",
      "68578  http://www.tate.org.uk/art/images/work/T/T13/T...   \n",
      "\n",
      "                                                     url  \n",
      "62036  http://www.tate.org.uk/art/artworks/beale-port...  \n",
      "68577  http://www.tate.org.uk/art/artworks/beale-sket...  \n",
      "68578  http://www.tate.org.uk/art/artworks/beale-sket...  \n"
     ]
    }
   ],
   "source": [
    "filtered_df = df[(df['artist'] == 'Beale, Mary')]\n",
    "print(filtered_df)"
   ]
  },
  {
   "cell_type": "code",
   "execution_count": null,
   "metadata": {},
   "outputs": [],
   "source": []
  }
 ],
 "metadata": {
  "kernelspec": {
   "display_name": "Python 3",
   "language": "python",
   "name": "python3"
  },
  "language_info": {
   "codemirror_mode": {
    "name": "ipython",
    "version": 3
   },
   "file_extension": ".py",
   "mimetype": "text/x-python",
   "name": "python",
   "nbconvert_exporter": "python",
   "pygments_lexer": "ipython3",
   "version": "3.11.3"
  },
  "orig_nbformat": 4
 },
 "nbformat": 4,
 "nbformat_minor": 2
}
