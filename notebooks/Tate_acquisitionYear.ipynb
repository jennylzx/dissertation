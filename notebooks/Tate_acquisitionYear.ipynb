{
 "cells": [
  {
   "cell_type": "code",
   "execution_count": 159,
   "metadata": {},
   "outputs": [],
   "source": [
    "import pandas as pd\n",
    "import numpy as np\n",
    "import matplotlib.pyplot as plt\n",
    "import regex as re\n",
    "import seaborn as sns\n"
   ]
  },
  {
   "cell_type": "code",
   "execution_count": 160,
   "metadata": {},
   "outputs": [
    {
     "name": "stderr",
     "output_type": "stream",
     "text": [
      "C:\\Users\\jenny\\AppData\\Local\\Temp\\ipykernel_30792\\2521364596.py:3: DtypeWarning: Columns (9,13) have mixed types. Specify dtype option on import or set low_memory=False.\n",
      "  df2 = pd.read_csv(\"../data/artwork_data.csv\")\n"
     ]
    }
   ],
   "source": [
    "# Import the data\n",
    "df1 = pd.read_csv(\"../data/artist_data.csv\")  #..(relative path, goes to the parent directory) vs. C:Users (absolute path)\n",
    "df2 = pd.read_csv(\"../data/artwork_data.csv\")"
   ]
  },
  {
   "cell_type": "markdown",
   "metadata": {},
   "source": [
    "### Merge two dataframes"
   ]
  },
  {
   "cell_type": "code",
   "execution_count": 161,
   "metadata": {},
   "outputs": [
    {
     "name": "stdout",
     "output_type": "stream",
     "text": [
      "                         name  yearOfBirth  gender    year  acquisitionYear\n",
      "0      Abakanowicz, Magdalena       1930.0  Female    1978           2009.0\n",
      "1      Abakanowicz, Magdalena       1930.0  Female    1969           2009.0\n",
      "2      Abakanowicz, Magdalena       1930.0  Female    1971           2009.0\n",
      "3      Abakanowicz, Magdalena       1930.0  Female    1976           2009.0\n",
      "4         Abbey, Edwin Austin       1852.0    Male  1882.0           1924.0\n",
      "...                       ...          ...     ...     ...              ...\n",
      "69190         Zorio, Gilberto       1944.0    Male    1971           2009.0\n",
      "69191              Zox, Larry       1936.0    Male  1965.0           1968.0\n",
      "69192   Zuccarelli, Francesco       1702.0    Male  1765.0           1985.0\n",
      "69193        Zuloaga, Ignacio       1870.0    Male  1905.0           1923.0\n",
      "69194         Zyw, Aleksander       1905.0    Male  1957.0           1962.0\n",
      "\n",
      "[69195 rows x 5 columns]\n"
     ]
    }
   ],
   "source": [
    "# Select the desired columns from df1\n",
    "df1_selected = df1[['id', 'name', 'yearOfBirth', 'gender']]\n",
    "\n",
    "# Select the desired columns from df2\n",
    "df2_selected = df2[['artistId', 'year', 'acquisitionYear']]\n",
    "\n",
    "# Merge the selected columns based on artistId\n",
    "merged_df = pd.merge(df1_selected, df2_selected, left_on='id', right_on='artistId')\n",
    "\n",
    "# Select the final columns for the new data frame\n",
    "result_df = merged_df[['name', 'yearOfBirth', 'gender', 'year', 'acquisitionYear']]\n",
    "\n",
    "# Display the resulting data frame\n",
    "print(result_df)"
   ]
  },
  {
   "cell_type": "markdown",
   "metadata": {},
   "source": [
    "### Tidy up the data"
   ]
  },
  {
   "cell_type": "code",
   "execution_count": 162,
   "metadata": {},
   "outputs": [
    {
     "name": "stdout",
     "output_type": "stream",
     "text": [
      "No inconsistent data found. All 'yearOfBirth' values are less than 'acquisitionYear'.\n"
     ]
    }
   ],
   "source": [
    "# Check if any 'yearOfBirth' values are greater than 'acquisitionYear'\n",
    "inconsistent_data = result_df[result_df['yearOfBirth'] > result_df['acquisitionYear']]\n",
    "\n",
    "# Display the inconsistent data, if any\n",
    "if len(inconsistent_data) > 0:\n",
    "    print(\"Inconsistent data found:\")\n",
    "    print(inconsistent_data)\n",
    "else:\n",
    "    print(\"No inconsistent data found. All 'yearOfBirth' values are less than 'acquisitionYear'.\")"
   ]
  },
  {
   "cell_type": "code",
   "execution_count": 163,
   "metadata": {},
   "outputs": [
    {
     "name": "stdout",
     "output_type": "stream",
     "text": [
      "                        name    year  yearOfBirth  gender  acquisitionYear\n",
      "0     Abakanowicz, Magdalena  1969.0       1930.0  Female           2009.0\n",
      "1        Abbey, Edwin Austin  1882.0       1852.0    Male           1924.0\n",
      "2           Abbott, Berenice  1935.0       1898.0  Female           2010.0\n",
      "3     Abbott, Lemuel Francis     NaN       1760.0    Male           1885.0\n",
      "4     Abbott, Lemuel Francis     NaN       1760.0    Male           1968.0\n",
      "...                      ...     ...          ...     ...              ...\n",
      "6155         Zyw, Aleksander  1957.0       1905.0    Male           1962.0\n",
      "6156         di Suvero, Mark  1976.0       1933.0    Male           2004.0\n",
      "6157            van Elk, Ger  1976.0       1941.0    Male           1980.0\n",
      "6158       Štyrský, Jindrich  1934.0       1899.0    Male           2007.0\n",
      "6159       Štyrský, Jindrich  1934.0       1899.0    Male           2007.0\n",
      "\n",
      "[6160 rows x 5 columns]\n"
     ]
    },
    {
     "name": "stderr",
     "output_type": "stream",
     "text": [
      "C:\\Users\\jenny\\AppData\\Local\\Temp\\ipykernel_30792\\2555363441.py:2: SettingWithCopyWarning: \n",
      "A value is trying to be set on a copy of a slice from a DataFrame.\n",
      "Try using .loc[row_indexer,col_indexer] = value instead\n",
      "\n",
      "See the caveats in the documentation: https://pandas.pydata.org/pandas-docs/stable/user_guide/indexing.html#returning-a-view-versus-a-copy\n",
      "  result_df['year'] = pd.to_numeric(result_df['year'], errors='coerce')\n"
     ]
    }
   ],
   "source": [
    "# Convert 'year' column to numeric\n",
    "result_df['year'] = pd.to_numeric(result_df['year'], errors='coerce')\n",
    "\n",
    "# Find the minimum year for each artist\n",
    "unique_df = result_df.groupby('name').agg({'year': 'min'}).reset_index()\n",
    "\n",
    "# Merge with the original dataframe to retrieve the additional columns\n",
    "unique_df = pd.merge(unique_df, result_df, on=['name', 'year'], how='left')\n",
    "\n",
    "# Display the resulting dataframe\n",
    "print(unique_df)"
   ]
  },
  {
   "cell_type": "code",
   "execution_count": 164,
   "metadata": {},
   "outputs": [
    {
     "name": "stdout",
     "output_type": "stream",
     "text": [
      "                        name  acquisitionYear    year  yearOfBirth  gender\n",
      "0     Abakanowicz, Magdalena           2009.0  1969.0       1930.0  Female\n",
      "1        Abbey, Edwin Austin           1924.0  1882.0       1852.0    Male\n",
      "2           Abbott, Berenice           2010.0  1935.0       1898.0  Female\n",
      "3     Abbott, Lemuel Francis           1885.0     NaN       1760.0    Male\n",
      "4             Abrahams, Ivor           1986.0  1967.0       1935.0    Male\n",
      "...                      ...              ...     ...          ...     ...\n",
      "5807         Zyw, Aleksander           1962.0  1957.0       1905.0    Male\n",
      "5808         di Suvero, Mark           2004.0  1976.0       1933.0    Male\n",
      "5809            van Elk, Ger           1980.0  1976.0       1941.0    Male\n",
      "5810       Štyrský, Jindrich           2007.0  1934.0       1899.0    Male\n",
      "5811       Štyrský, Jindrich           2007.0  1934.0       1899.0    Male\n",
      "\n",
      "[5812 rows x 5 columns]\n"
     ]
    }
   ],
   "source": [
    "# Find the earliest acquisition year for each unique name\n",
    "filtered_df = unique_df.groupby('name').agg({'acquisitionYear': 'min'}).reset_index()\n",
    "\n",
    "# Merge with the original dataframe to retrieve the additional columns\n",
    "filtered_df = pd.merge(filtered_df, unique_df, on=['name', 'acquisitionYear'], how='left')\n",
    "\n",
    "# Display the resulting dataframe\n",
    "print(filtered_df)"
   ]
  },
  {
   "cell_type": "code",
   "execution_count": 165,
   "metadata": {},
   "outputs": [
    {
     "name": "stdout",
     "output_type": "stream",
     "text": [
      "                        name  acquisitionYear    year  yearOfBirth  gender\n",
      "0     Abakanowicz, Magdalena           2009.0  1969.0       1930.0  Female\n",
      "1        Abbey, Edwin Austin           1924.0  1882.0       1852.0    Male\n",
      "2           Abbott, Berenice           2010.0  1935.0       1898.0  Female\n",
      "3     Abbott, Lemuel Francis           1885.0     NaN       1760.0    Male\n",
      "4             Abrahams, Ivor           1986.0  1967.0       1935.0    Male\n",
      "...                      ...              ...     ...          ...     ...\n",
      "5806        Zuloaga, Ignacio           1923.0  1905.0       1870.0    Male\n",
      "5807         Zyw, Aleksander           1962.0  1957.0       1905.0    Male\n",
      "5808         di Suvero, Mark           2004.0  1976.0       1933.0    Male\n",
      "5809            van Elk, Ger           1980.0  1976.0       1941.0    Male\n",
      "5810       Štyrský, Jindrich           2007.0  1934.0       1899.0    Male\n",
      "\n",
      "[3332 rows x 5 columns]\n"
     ]
    }
   ],
   "source": [
    "# Drop duplicate names and keep only the first occurrence\n",
    "unique_names_df = filtered_df.drop_duplicates(subset='name', keep='first')\n",
    "\n",
    "# Display the resulting dataframe\n",
    "print(unique_names_df)"
   ]
  },
  {
   "cell_type": "markdown",
   "metadata": {},
   "source": [
    "#### Find out the difference between year of birth of the artists and their earliest acquisition year of an artwork."
   ]
  },
  {
   "cell_type": "code",
   "execution_count": 166,
   "metadata": {},
   "outputs": [
    {
     "name": "stdout",
     "output_type": "stream",
     "text": [
      "                        name  acquisitionYear    year  yearOfBirth  gender   \n",
      "0     Abakanowicz, Magdalena           2009.0  1969.0       1930.0  Female  \\\n",
      "1        Abbey, Edwin Austin           1924.0  1882.0       1852.0    Male   \n",
      "2           Abbott, Berenice           2010.0  1935.0       1898.0  Female   \n",
      "3     Abbott, Lemuel Francis           1885.0     NaN       1760.0    Male   \n",
      "4             Abrahams, Ivor           1986.0  1967.0       1935.0    Male   \n",
      "...                      ...              ...     ...          ...     ...   \n",
      "5806        Zuloaga, Ignacio           1923.0  1905.0       1870.0    Male   \n",
      "5807         Zyw, Aleksander           1962.0  1957.0       1905.0    Male   \n",
      "5808         di Suvero, Mark           2004.0  1976.0       1933.0    Male   \n",
      "5809            van Elk, Ger           1980.0  1976.0       1941.0    Male   \n",
      "5810       Štyrský, Jindrich           2007.0  1934.0       1899.0    Male   \n",
      "\n",
      "      yearDifference  \n",
      "0               79.0  \n",
      "1               72.0  \n",
      "2              112.0  \n",
      "3              125.0  \n",
      "4               51.0  \n",
      "...              ...  \n",
      "5806            53.0  \n",
      "5807            57.0  \n",
      "5808            71.0  \n",
      "5809            39.0  \n",
      "5810           108.0  \n",
      "\n",
      "[3332 rows x 6 columns]\n"
     ]
    },
    {
     "name": "stderr",
     "output_type": "stream",
     "text": [
      "C:\\Users\\jenny\\AppData\\Local\\Temp\\ipykernel_30792\\3456388171.py:2: SettingWithCopyWarning: \n",
      "A value is trying to be set on a copy of a slice from a DataFrame.\n",
      "Try using .loc[row_indexer,col_indexer] = value instead\n",
      "\n",
      "See the caveats in the documentation: https://pandas.pydata.org/pandas-docs/stable/user_guide/indexing.html#returning-a-view-versus-a-copy\n",
      "  unique_names_df['yearDifference'] = unique_names_df['acquisitionYear'] - unique_names_df['yearOfBirth']\n"
     ]
    }
   ],
   "source": [
    "# Calculate the year difference\n",
    "unique_names_df['yearDifference'] = unique_names_df['acquisitionYear'] - unique_names_df['yearOfBirth']\n",
    "\n",
    "# Display the resulting dataframe\n",
    "print(unique_names_df)"
   ]
  },
  {
   "cell_type": "code",
   "execution_count": 173,
   "metadata": {},
   "outputs": [
    {
     "name": "stdout",
     "output_type": "stream",
     "text": [
      "Greatest yearDifference (Female): 378.0\n",
      "Least yearDifference (Female): 22.0\n",
      "Greatest yearDifference (Male): 440.0\n",
      "Least yearDifference (Male): 9.0\n"
     ]
    }
   ],
   "source": [
    "# Find the greatest and least yearDifference for females\n",
    "max_year_difference_female = unique_names_df[unique_names_df['gender'] == 'Female']['yearDifference'].max()\n",
    "min_year_difference_female = unique_names_df[unique_names_df['gender'] == 'Female']['yearDifference'].min()\n",
    "\n",
    "# Find the greatest and least yearDifference for males\n",
    "max_year_difference_male = unique_names_df[unique_names_df['gender'] == 'Male']['yearDifference'].max()\n",
    "min_year_difference_male = unique_names_df[unique_names_df['gender'] == 'Male']['yearDifference'].min()\n",
    "\n",
    "# Display the results\n",
    "print(\"Greatest yearDifference (Female):\", max_year_difference_female)\n",
    "print(\"Least yearDifference (Female):\", min_year_difference_female)\n",
    "print(\"Greatest yearDifference (Male):\", max_year_difference_male)\n",
    "print(\"Least yearDifference (Male):\", min_year_difference_male)"
   ]
  },
  {
   "cell_type": "code",
   "execution_count": 175,
   "metadata": {},
   "outputs": [
    {
     "data": {
      "image/png": "[encoded data removed]",
      "text/plain": [
       "<Figure size 640x480 with 1 Axes>"
      ]
     },
     "metadata": {},
     "output_type": "display_data"
    }
   ],
   "source": [
    "# Create a box plot comparing the yearDifference between males and females\n",
    "sns.boxplot(x='gender', y='yearDifference', data=unique_names_df)\n",
    "\n",
    "# Set labels and title\n",
    "plt.xlabel('Gender')\n",
    "plt.ylabel('Year Difference')\n",
    "plt.title('Year Difference Comparison between Males and Females')\n",
    "\n",
    "# Show the plot\n",
    "plt.show()"
   ]
  },
  {
   "cell_type": "code",
   "execution_count": 167,
   "metadata": {},
   "outputs": [
    {
     "name": "stdout",
     "output_type": "stream",
     "text": [
      "                male  female\n",
      "period                      \n",
      "Before 1600        0      16\n",
      "1600-1699          1      60\n",
      "1700-1799         13     371\n",
      "1800-1899         91     891\n",
      "1900 and later   379    1435\n"
     ]
    },
    {
     "name": "stderr",
     "output_type": "stream",
     "text": [
      "C:\\Users\\jenny\\AppData\\Local\\Temp\\ipykernel_30792\\334941910.py:8: SettingWithCopyWarning: \n",
      "A value is trying to be set on a copy of a slice from a DataFrame.\n",
      "Try using .loc[row_indexer,col_indexer] = value instead\n",
      "\n",
      "See the caveats in the documentation: https://pandas.pydata.org/pandas-docs/stable/user_guide/indexing.html#returning-a-view-versus-a-copy\n",
      "  unique_names_df['period'] = pd.cut(unique_names_df['yearOfBirth'], bins=bins, labels=labels, right=False)\n"
     ]
    }
   ],
   "source": [
    "# Define the bin edges for the periods\n",
    "bins = [0, 1600, 1700, 1800, 1900, 2023]\n",
    "\n",
    "# Define the labels for the periods\n",
    "labels = ['Before 1600', '1600-1699', '1700-1799', '1800-1899', '1900 and later']\n",
    "\n",
    "# Split 'yearOfBirth' into periods using pd.cut\n",
    "unique_names_df['period'] = pd.cut(unique_names_df['yearOfBirth'], bins=bins, labels=labels, right=False)\n",
    "\n",
    "# Group by 'period' and count the number of male and female artists\n",
    "comparison_df = unique_names_df.groupby('period')['gender'].value_counts().unstack().fillna(0)\n",
    "\n",
    "# Rename the column names for clarity\n",
    "comparison_df.columns = ['male', 'female']\n",
    "\n",
    "# Display the comparison dataframe\n",
    "print(comparison_df)"
   ]
  },
  {
   "cell_type": "code",
   "execution_count": 168,
   "metadata": {},
   "outputs": [
    {
     "name": "stdout",
     "output_type": "stream",
     "text": [
      "period\n",
      "Before 1600              NaN\n",
      "1600-1699         378.000000\n",
      "1700-1799         232.307692\n",
      "1800-1899          78.681319\n",
      "1900 and later     50.857520\n",
      "Name: yearDifference, dtype: float64\n"
     ]
    }
   ],
   "source": [
    "# Calculate the mean yearDifference of females in each period\n",
    "mean_year_difference_female = unique_names_df[unique_names_df['gender'] == 'Female'].groupby('period')['yearDifference'].mean()\n",
    "\n",
    "# Display the mean yearDifference of females in each period\n",
    "print(mean_year_difference_female)"
   ]
  },
  {
   "cell_type": "code",
   "execution_count": 169,
   "metadata": {},
   "outputs": [
    {
     "name": "stdout",
     "output_type": "stream",
     "text": [
      "period\n",
      "Before 1600       399.187500\n",
      "1600-1699         320.116667\n",
      "1700-1799         195.778976\n",
      "1800-1899          81.771044\n",
      "1900 and later     51.009756\n",
      "Name: yearDifference, dtype: float64\n"
     ]
    }
   ],
   "source": [
    "# Calculate the mean yearDifference of males in each period\n",
    "mean_year_difference_male = unique_names_df[unique_names_df['gender'] == 'Male'].groupby('period')['yearDifference'].mean()\n",
    "\n",
    "# Display the mean yearDifference of males in each period\n",
    "print(mean_year_difference_male)"
   ]
  },
  {
   "cell_type": "code",
   "execution_count": 170,
   "metadata": {},
   "outputs": [
    {
     "name": "stdout",
     "output_type": "stream",
     "text": [
      "                Mean Year Difference (Female)  Mean Year Difference (Male)\n",
      "period                                                                    \n",
      "Before 1600                               NaN                   399.187500\n",
      "1600-1699                          378.000000                   320.116667\n",
      "1700-1799                          232.307692                   195.778976\n",
      "1800-1899                           78.681319                    81.771044\n",
      "1900 and later                      50.857520                    51.009756\n"
     ]
    }
   ],
   "source": [
    "# Combine the mean yearDifference values for males and females into a single dataframe\n",
    "combined_df = pd.concat([mean_year_difference_female, mean_year_difference_male], axis=1)\n",
    "combined_df.columns = ['Mean Year Difference (Female)', 'Mean Year Difference (Male)']\n",
    "\n",
    "# Display the combined dataframe\n",
    "print(combined_df)"
   ]
  },
  {
   "cell_type": "code",
   "execution_count": 172,
   "metadata": {},
   "outputs": [
    {
     "data": {
      "text/html": [
       "<div>\n",
       "<style scoped>\n",
       "    .dataframe tbody tr th:only-of-type {\n",
       "        vertical-align: middle;\n",
       "    }\n",
       "\n",
       "    .dataframe tbody tr th {\n",
       "        vertical-align: top;\n",
       "    }\n",
       "\n",
       "    .dataframe thead th {\n",
       "        text-align: right;\n",
       "    }\n",
       "</style>\n",
       "<table border=\"1\" class=\"dataframe\">\n",
       "  <thead>\n",
       "    <tr style=\"text-align: right;\">\n",
       "      <th></th>\n",
       "      <th>male</th>\n",
       "      <th>female</th>\n",
       "      <th>Mean Year Difference (Female)</th>\n",
       "      <th>Mean Year Difference (Male)</th>\n",
       "    </tr>\n",
       "    <tr>\n",
       "      <th>period</th>\n",
       "      <th></th>\n",
       "      <th></th>\n",
       "      <th></th>\n",
       "      <th></th>\n",
       "    </tr>\n",
       "  </thead>\n",
       "  <tbody>\n",
       "    <tr>\n",
       "      <th>Before 1600</th>\n",
       "      <td>0</td>\n",
       "      <td>16</td>\n",
       "      <td>NaN</td>\n",
       "      <td>399.187500</td>\n",
       "    </tr>\n",
       "    <tr>\n",
       "      <th>1600-1699</th>\n",
       "      <td>1</td>\n",
       "      <td>60</td>\n",
       "      <td>378.000000</td>\n",
       "      <td>320.116667</td>\n",
       "    </tr>\n",
       "    <tr>\n",
       "      <th>1700-1799</th>\n",
       "      <td>13</td>\n",
       "      <td>371</td>\n",
       "      <td>232.307692</td>\n",
       "      <td>195.778976</td>\n",
       "    </tr>\n",
       "    <tr>\n",
       "      <th>1800-1899</th>\n",
       "      <td>91</td>\n",
       "      <td>891</td>\n",
       "      <td>78.681319</td>\n",
       "      <td>81.771044</td>\n",
       "    </tr>\n",
       "    <tr>\n",
       "      <th>1900 and later</th>\n",
       "      <td>379</td>\n",
       "      <td>1435</td>\n",
       "      <td>50.857520</td>\n",
       "      <td>51.009756</td>\n",
       "    </tr>\n",
       "  </tbody>\n",
       "</table>\n",
       "</div>"
      ],
      "text/plain": [
       "                male  female  Mean Year Difference (Female)   \n",
       "period                                                        \n",
       "Before 1600        0      16                            NaN  \\\n",
       "1600-1699          1      60                     378.000000   \n",
       "1700-1799         13     371                     232.307692   \n",
       "1800-1899         91     891                      78.681319   \n",
       "1900 and later   379    1435                      50.857520   \n",
       "\n",
       "                Mean Year Difference (Male)  \n",
       "period                                       \n",
       "Before 1600                      399.187500  \n",
       "1600-1699                        320.116667  \n",
       "1700-1799                        195.778976  \n",
       "1800-1899                         81.771044  \n",
       "1900 and later                    51.009756  "
      ]
     },
     "execution_count": 172,
     "metadata": {},
     "output_type": "execute_result"
    }
   ],
   "source": [
    "# Combine the comparison_df and combined_df dataframes\n",
    "final_df = pd.concat([comparison_df, combined_df], axis=1)\n",
    "\n",
    "# Display the final combined dataframe\n",
    "final_df"
   ]
  },
  {
   "cell_type": "code",
   "execution_count": null,
   "metadata": {},
   "outputs": [],
   "source": []
  }
 ],
 "metadata": {
  "kernelspec": {
   "display_name": "Python 3",
   "language": "python",
   "name": "python3"
  },
  "language_info": {
   "codemirror_mode": {
    "name": "ipython",
    "version": 3
   },
   "file_extension": ".py",
   "mimetype": "text/x-python",
   "name": "python",
   "nbconvert_exporter": "python",
   "pygments_lexer": "ipython3",
   "version": "3.11.3"
  },
  "orig_nbformat": 4
 },
 "nbformat": 4,
 "nbformat_minor": 2
}
